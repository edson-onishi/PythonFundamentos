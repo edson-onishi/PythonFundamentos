{
 "cells": [
  {
   "cell_type": "code",
   "execution_count": null,
   "metadata": {},
   "outputs": [
    {
     "name": "stdout",
     "output_type": "stream",
     "text": [
      "IDADE: 20\n",
      "IDADE: 21\n"
     ]
    }
   ],
   "source": [
    "while True:\n",
    "    idade = int(input('IDADE: '))\n",
    "    sexo = ''\n",
    "    continue\n",
    "    while sexo not in 'FM':\n",
    "        sexo = str(input('INFORME O SEU SEXO[M/F]: '))\n",
    "        mulher = homem = 0\n",
    "        if sexo == 'F' and idade >= 20:\n",
    "            mulher += 1\n",
    "        if sexo == 'M':\n",
    "            homem += 1\n",
    "    maior = 0\n",
    "    if idade >= 18:\n",
    "        maior += 1\n",
    "    cont = 0\n",
    "    cont += 1\n",
    "    resp = ''\n",
    "    while resp not in 'SN':\n",
    "        resp = str(input('QUER CONTINUAR? [S/N]: ')).upper().strip()[0]\n",
    "        if resp == 'N':\n",
    "            break\n",
    "print(f'EXISTE {maior} PESSOAS COM MAIS DE 18 ANOS')\n",
    "print(f'{homen} HOMENS')\n",
    "print(F'E {mulher} mulheres acima dos 20 anos')\n",
    "print(f'{cont} PESSOAS FORAM CADASTRADAS')\n",
    "print(f'{cont} PESSOAS FORAM CADASTRADAS')"
   ]
  },
  {
   "cell_type": "code",
   "execution_count": null,
   "metadata": {},
   "outputs": [],
   "source": []
  }
 ],
 "metadata": {
  "kernelspec": {
   "display_name": "Python 3",
   "language": "python",
   "name": "python3"
  },
  "language_info": {
   "codemirror_mode": {
    "name": "ipython",
    "version": 3
   },
   "file_extension": ".py",
   "mimetype": "text/x-python",
   "name": "python",
   "nbconvert_exporter": "python",
   "pygments_lexer": "ipython3",
   "version": "3.6.5"
  }
 },
 "nbformat": 4,
 "nbformat_minor": 2
}
