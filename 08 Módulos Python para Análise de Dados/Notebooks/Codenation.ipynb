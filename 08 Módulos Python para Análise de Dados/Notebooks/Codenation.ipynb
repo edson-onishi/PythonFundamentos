{
 "cells": [
  {
   "cell_type": "code",
   "execution_count": 4,
   "metadata": {},
   "outputs": [
    {
     "name": "stdout",
     "output_type": "stream",
     "text": [
      "{'numero_casas': 1, 'token': '37e7cf6c453c4d296dad0dd3050a66e20bf7d2a4', 'cifrado': 'qfsm - uif pomz mbohvbhf uibu mpplt uif tbnf cfgpsf boe bgufs stb fodszqujpo. lfjui cptujd', 'decifrado': '', 'resumo_criptografico': ''}\n"
     ]
    }
   ],
   "source": [
    "print(response)"
   ]
  },
  {
   "cell_type": "code",
   "execution_count": 5,
   "metadata": {},
   "outputs": [
    {
     "name": "stdout",
     "output_type": "stream",
     "text": [
      "qfsm - uif pomz mbohvbhf uibu mpplt uif tbnf cfgpsf boe bgufs stb fodszqujpo. lfjui cptujd\n"
     ]
    }
   ],
   "source": [
    "print(response['cifrado'])"
   ]
  },
  {
   "cell_type": "code",
   "execution_count": 8,
   "metadata": {},
   "outputs": [
    {
     "name": "stdout",
     "output_type": "stream",
     "text": [
      "qfsm - uif pomz mbohvbhf uibu mpplt uif tbnf cfgpsf boe bgufs stb fodszqujpo. lfjui cptujd\n"
     ]
    }
   ],
   "source": [
    "print(mensagem)"
   ]
  },
  {
   "cell_type": "code",
   "execution_count": 70,
   "metadata": {},
   "outputs": [
    {
     "ename": "TypeError",
     "evalue": "Unicode-objects must be encoded before hashing",
     "output_type": "error",
     "traceback": [
      "\u001b[1;31m---------------------------------------------------------------------------\u001b[0m",
      "\u001b[1;31mTypeError\u001b[0m                                 Traceback (most recent call last)",
      "\u001b[1;32m<ipython-input-70-928839dbaea9>\u001b[0m in \u001b[0;36m<module>\u001b[1;34m()\u001b[0m\n\u001b[0;32m     16\u001b[0m \u001b[0mresponse\u001b[0m\u001b[1;33m[\u001b[0m\u001b[1;34m'decifrado'\u001b[0m\u001b[1;33m]\u001b[0m \u001b[1;33m=\u001b[0m \u001b[0mmsg\u001b[0m\u001b[1;33m\u001b[0m\u001b[0m\n\u001b[0;32m     17\u001b[0m \u001b[0mcrp\u001b[0m \u001b[1;33m=\u001b[0m \u001b[0mhashlib\u001b[0m\u001b[1;33m.\u001b[0m\u001b[0msha1\u001b[0m\u001b[1;33m(\u001b[0m\u001b[1;33m)\u001b[0m\u001b[1;33m\u001b[0m\u001b[0m\n\u001b[1;32m---> 18\u001b[1;33m \u001b[0mcrp\u001b[0m\u001b[1;33m.\u001b[0m\u001b[0mupdate\u001b[0m\u001b[1;33m(\u001b[0m\u001b[0mmsg\u001b[0m\u001b[1;33m)\u001b[0m\u001b[1;33m\u001b[0m\u001b[0m\n\u001b[0m\u001b[0;32m     19\u001b[0m \u001b[0mresponse\u001b[0m\u001b[1;33m[\u001b[0m\u001b[1;34m'resumo_criptografico'\u001b[0m\u001b[1;33m]\u001b[0m \u001b[1;33m=\u001b[0m \u001b[0mcrp\u001b[0m\u001b[1;33m\u001b[0m\u001b[0m\n\u001b[0;32m     20\u001b[0m \u001b[0mJ\u001b[0m \u001b[1;33m=\u001b[0m \u001b[0mjson\u001b[0m\u001b[1;33m.\u001b[0m\u001b[0mdumps\u001b[0m\u001b[1;33m(\u001b[0m\u001b[0mresponse\u001b[0m\u001b[1;33m)\u001b[0m\u001b[1;33m\u001b[0m\u001b[0m\n",
      "\u001b[1;31mTypeError\u001b[0m: Unicode-objects must be encoded before hashing"
     ]
    }
   ],
   "source": [
    "import requests\n",
    "import json\n",
    "import hashlib\n",
    "url = requests.get(\"https://api.codenation.dev/v1/challenge/dev-ps/generate-data?token=37e7cf6c453c4d296dad0dd3050a66e20bf7d2a4\")\n",
    "response = json.loads(url.text)\n",
    "num = response['numero_casas']\n",
    "mensagem = response['cifrado']\n",
    "alfabeto = 'abcdefghijklmnopqrstuvwxyz'\n",
    "msg = ''\n",
    "for c in mensagem:\n",
    "    if c in alfabeto:\n",
    "        c_index = alfabeto.find(c.lower())\n",
    "        msg += alfabeto[c_index - num]\n",
    "    else:\n",
    "        msg += c\n",
    "response['decifrado'] = msg\n",
    "crp = hashlib.sha1()\n",
    "crp.update(msg)\n",
    "response['resumo_criptografico'] = crp\n",
    "J = json.dumps(response)\n"
   ]
  },
  {
   "cell_type": "code",
   "execution_count": 58,
   "metadata": {},
   "outputs": [],
   "source": [
    "file = open(\"answer.json\", \"w\")\n",
    "file.write(J)\n",
    "file.close()"
   ]
  },
  {
   "cell_type": "code",
   "execution_count": 55,
   "metadata": {},
   "outputs": [],
   "source": [
    "data = open(\"answer.json\", \"r\")"
   ]
  },
  {
   "cell_type": "code",
   "execution_count": 56,
   "metadata": {},
   "outputs": [
    {
     "name": "stdout",
     "output_type": "stream",
     "text": [
      "{\"numero_casas\": 1, \"token\": \"37e7cf6c453c4d296dad0dd3050a66e20bf7d2a4\", \"cifrado\": \"qfsm - uif pomz mbohvbhf uibu mpplt uif tbnf cfgpsf boe bgufs stb fodszqujpo. lfjui cptujd\", \"decifrado\": \"perl - the only language that looks the same before and after rsa encryption. keith bostic\", \"resumo_criptografico\": \"\"}\n"
     ]
    }
   ],
   "source": [
    "print(data.read())"
   ]
  },
  {
   "cell_type": "code",
   "execution_count": 66,
   "metadata": {},
   "outputs": [
    {
     "data": {
      "text/plain": [
       "b'\\x9eD\\xd3\\xb4\\x1fZ\\xcd\\xa1\\xcd>?\\x86G\\x17\\xa2\\x0b|\\xe2z\\xc6'"
      ]
     },
     "execution_count": 66,
     "metadata": {},
     "output_type": "execute_result"
    }
   ],
   "source": [
    "m = hashlib.sha1()\n",
    "m.update(b\"perl - the only language that looks the same before and after rsa encryption. keith bostic\")\n",
    "m.digest()"
   ]
  },
  {
   "cell_type": "code",
   "execution_count": 67,
   "metadata": {},
   "outputs": [
    {
     "data": {
      "text/plain": [
       "b'\\x19\\xf3N\\xe1\\xe4\\x06\\xea\\x84\\xca\\x83\\xc85\\xa30\\x1b]\\x90\\x14\\xa7\\x88'"
      ]
     },
     "execution_count": 67,
     "metadata": {},
     "output_type": "execute_result"
    }
   ],
   "source": [
    "m = hashlib.sha1()\n",
    "m.update(b\"msg\")\n",
    "m.digest()"
   ]
  },
  {
   "cell_type": "code",
   "execution_count": null,
   "metadata": {},
   "outputs": [],
   "source": []
  }
 ],
 "metadata": {
  "kernelspec": {
   "display_name": "Python 3",
   "language": "python",
   "name": "python3"
  },
  "language_info": {
   "codemirror_mode": {
    "name": "ipython",
    "version": 3
   },
   "file_extension": ".py",
   "mimetype": "text/x-python",
   "name": "python",
   "nbconvert_exporter": "python",
   "pygments_lexer": "ipython3",
   "version": "3.6.5"
  }
 },
 "nbformat": 4,
 "nbformat_minor": 2
}
