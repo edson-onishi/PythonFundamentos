{
 "cells": [
  {
   "cell_type": "code",
   "execution_count": null,
   "metadata": {},
   "outputs": [],
   "source": [
    "print(response)"
   ]
  },
  {
   "cell_type": "code",
   "execution_count": null,
   "metadata": {},
   "outputs": [],
   "source": [
    "print(response['cifrado'])"
   ]
  },
  {
   "cell_type": "code",
   "execution_count": null,
   "metadata": {},
   "outputs": [],
   "source": [
    "print(mensagem)"
   ]
  },
  {
   "cell_type": "code",
<<<<<<< HEAD
   "execution_count": null,
=======
<<<<<<< HEAD
   "execution_count": 3,
=======
   "execution_count": 2,
>>>>>>> 354c10e498ca83ea0ce522f93accdf557ce04b94
>>>>>>> ff703b4ed19eb63274f721e0c6a4af83612ccee0
   "metadata": {},
   "outputs": [],
   "source": [
    "import requests\n",
    "import json\n",
    "import hashlib\n",
    "url = requests.get(\"https://api.codenation.dev/v1/challenge/dev-ps/generate-data?token=37e7cf6c453c4d296dad0dd3050a66e20bf7d2a4\")\n",
    "response = json.loads(url.text)\n",
    "num = response['numero_casas']\n",
    "mensagem = response['cifrado']\n",
    "alfabeto = 'abcdefghijklmnopqrstuvwxyz'\n",
    "msg = ''\n",
    "for c in mensagem:\n",
    "    if c in alfabeto:\n",
    "        c_index = alfabeto.find(c.lower())\n",
    "        msg += alfabeto[c_index - num]\n",
    "    else:\n",
    "        msg += c\n",
    "response['decifrado'] = msg\n",
    "crp = hashlib.sha1(b\"perl - the only language that looks the same before and after rsa encryption. keith bostic\")\n",
<<<<<<< HEAD
=======
    "crp.hexdigest()\n",
>>>>>>> 354c10e498ca83ea0ce522f93accdf557ce04b94
    "response['resumo_criptografico'] = crp.hexdigest()\n",
    "J = json.dumps(response)\n"
   ]
  },
  {
   "cell_type": "code",
<<<<<<< HEAD
   "execution_count": null,
=======
<<<<<<< HEAD
   "execution_count": 4,
=======
   "execution_count": 3,
>>>>>>> 354c10e498ca83ea0ce522f93accdf557ce04b94
>>>>>>> ff703b4ed19eb63274f721e0c6a4af83612ccee0
   "metadata": {},
   "outputs": [],
   "source": [
    "file = open(\"answer.json\", \"w\")\n",
    "file.write(J)\n",
    "file.close()"
   ]
  },
  {
   "cell_type": "code",
<<<<<<< HEAD
   "execution_count": null,
=======
<<<<<<< HEAD
   "execution_count": 5,
=======
   "execution_count": 4,
>>>>>>> 354c10e498ca83ea0ce522f93accdf557ce04b94
>>>>>>> ff703b4ed19eb63274f721e0c6a4af83612ccee0
   "metadata": {},
   "outputs": [],
   "source": [
    "data = open(\"answer.json\", \"r\")"
   ]
  },
  {
   "cell_type": "code",
<<<<<<< HEAD
   "execution_count": null,
=======
<<<<<<< HEAD
   "execution_count": 6,
=======
   "execution_count": 5,
>>>>>>> 354c10e498ca83ea0ce522f93accdf557ce04b94
>>>>>>> ff703b4ed19eb63274f721e0c6a4af83612ccee0
   "metadata": {},
   "outputs": [],
   "source": [
    "print(data.read())"
   ]
  },
  {
   "cell_type": "code",
<<<<<<< HEAD
   "execution_count": null,
   "metadata": {},
   "outputs": [],
   "source": [
    "url = 'https://api.codenation.dev/v1/challenge/dev-ps/submit-solution?token=37e7cf6c453c4d296dad0dd3050a66e20bf7d2a4'\n",
    "answer = {'answer': open('answer.json', 'rb')}\n",
    "\n",
    "r = requests.post(url, files=answer)\n",
=======
   "execution_count": 7,
<<<<<<< HEAD
=======
   "metadata": {},
   "outputs": [
    {
     "data": {
      "text/plain": [
       "'{\"code\":\"not_found\",\"error\":\"\\\\u003cnot_found\\\\u003e \",\"message\":\"Erro processando solução\"}'"
      ]
     },
     "execution_count": 7,
     "metadata": {},
     "output_type": "execute_result"
    }
   ],
   "source": [
    "url = 'https://api.codenation.dev/v1/challenge/dev-ps/submit-solution?token=624d79d66f3b05ff218d17d4cb520814e4a32d2a'\n",
    "answer = {'file': open('answer.json', 'rb')}\n",
    "\n",
    "r = requests.post(url, files=answer)\n",
    "r.text"
   ]
  },
  {
   "cell_type": "code",
   "execution_count": 6,
>>>>>>> 354c10e498ca83ea0ce522f93accdf557ce04b94
   "metadata": {},
   "outputs": [
    {
     "data": {
      "text/plain": [
<<<<<<< HEAD
       "'{\"score\":100}\\n'"
      ]
     },
     "execution_count": 7,
=======
       "'{\"code\":\"not_found\",\"error\":\"\\\\u003cnot_found\\\\u003e \",\"message\":\"Erro processando solução\"}'"
      ]
     },
     "execution_count": 6,
>>>>>>> 354c10e498ca83ea0ce522f93accdf557ce04b94
     "metadata": {},
     "output_type": "execute_result"
    }
   ],
   "source": [
    "url = 'https://api.codenation.dev/v1/challenge/dev-ps/submit-solution?token=37e7cf6c453c4d296dad0dd3050a66e20bf7d2a4'\n",
<<<<<<< HEAD
    "answer = {'answer': open('answer.json', 'rb')}\n",
    "\n",
    "r = requests.post(url, files=answer)\n",
=======
    "files = {'file': ('answer.json', open('answer.json', 'rb'))}\n",
    "\n",
    "r = requests.post(url, files=files)\n",
>>>>>>> 354c10e498ca83ea0ce522f93accdf557ce04b94
>>>>>>> ff703b4ed19eb63274f721e0c6a4af83612ccee0
    "r.text"
   ]
  }
 ],
 "metadata": {
  "kernelspec": {
   "display_name": "Python 3",
   "language": "python",
   "name": "python3"
  },
  "language_info": {
   "codemirror_mode": {
    "name": "ipython",
    "version": 3
   },
   "file_extension": ".py",
   "mimetype": "text/x-python",
   "name": "python",
   "nbconvert_exporter": "python",
   "pygments_lexer": "ipython3",
   "version": "3.6.5"
  }
 },
 "nbformat": 4,
 "nbformat_minor": 2
}
