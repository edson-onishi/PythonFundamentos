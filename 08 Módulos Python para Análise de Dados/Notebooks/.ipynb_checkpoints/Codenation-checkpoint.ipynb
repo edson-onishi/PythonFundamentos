{
 "cells": [
  {
   "cell_type": "code",
   "execution_count": 4,
   "metadata": {},
   "outputs": [
    {
     "name": "stdout",
     "output_type": "stream",
     "text": [
      "{'numero_casas': 1, 'token': '37e7cf6c453c4d296dad0dd3050a66e20bf7d2a4', 'cifrado': 'qfsm - uif pomz mbohvbhf uibu mpplt uif tbnf cfgpsf boe bgufs stb fodszqujpo. lfjui cptujd', 'decifrado': '', 'resumo_criptografico': ''}\n"
     ]
    }
   ],
   "source": [
    "print(response)"
   ]
  },
  {
   "cell_type": "code",
   "execution_count": 5,
   "metadata": {},
   "outputs": [
    {
     "name": "stdout",
     "output_type": "stream",
     "text": [
      "qfsm - uif pomz mbohvbhf uibu mpplt uif tbnf cfgpsf boe bgufs stb fodszqujpo. lfjui cptujd\n"
     ]
    }
   ],
   "source": [
    "print(response['cifrado'])"
   ]
  },
  {
   "cell_type": "code",
   "execution_count": 8,
   "metadata": {},
   "outputs": [
    {
     "name": "stdout",
     "output_type": "stream",
     "text": [
      "qfsm - uif pomz mbohvbhf uibu mpplt uif tbnf cfgpsf boe bgufs stb fodszqujpo. lfjui cptujd\n"
     ]
    }
   ],
   "source": [
    "print(mensagem)"
   ]
  },
  {
   "cell_type": "code",
   "execution_count": 15,
   "metadata": {},
   "outputs": [
    {
     "ename": "TypeError",
     "evalue": "Unicode-objects must be encoded before hashing",
     "output_type": "error",
     "traceback": [
      "\u001b[1;31m---------------------------------------------------------------------------\u001b[0m",
      "\u001b[1;31mTypeError\u001b[0m                                 Traceback (most recent call last)",
      "\u001b[1;32m<ipython-input-15-9d3e3755927d>\u001b[0m in \u001b[0;36m<module>\u001b[1;34m()\u001b[0m\n\u001b[0;32m     15\u001b[0m         \u001b[0mmsg\u001b[0m \u001b[1;33m+=\u001b[0m \u001b[0mc\u001b[0m\u001b[1;33m\u001b[0m\u001b[0m\n\u001b[0;32m     16\u001b[0m \u001b[0mresponse\u001b[0m\u001b[1;33m[\u001b[0m\u001b[1;34m'decifrado'\u001b[0m\u001b[1;33m]\u001b[0m \u001b[1;33m=\u001b[0m \u001b[0mmsg\u001b[0m\u001b[1;33m\u001b[0m\u001b[0m\n\u001b[1;32m---> 17\u001b[1;33m \u001b[0mcrp\u001b[0m \u001b[1;33m=\u001b[0m \u001b[0mhashlib\u001b[0m\u001b[1;33m.\u001b[0m\u001b[0msha1\u001b[0m\u001b[1;33m(\u001b[0m\u001b[0mmsg\u001b[0m\u001b[1;33m)\u001b[0m\u001b[1;33m\u001b[0m\u001b[0m\n\u001b[0m\u001b[0;32m     18\u001b[0m \u001b[0mcrp\u001b[0m\u001b[1;33m.\u001b[0m\u001b[0mhexdigest\u001b[0m\u001b[1;33m(\u001b[0m\u001b[1;33m)\u001b[0m\u001b[1;33m\u001b[0m\u001b[0m\n\u001b[0;32m     19\u001b[0m \u001b[0mresponse\u001b[0m\u001b[1;33m[\u001b[0m\u001b[1;34m'resumo_criptografico'\u001b[0m\u001b[1;33m]\u001b[0m \u001b[1;33m=\u001b[0m \u001b[0mcrp\u001b[0m\u001b[1;33m.\u001b[0m\u001b[0mhexdigest\u001b[0m\u001b[1;33m(\u001b[0m\u001b[1;33m)\u001b[0m\u001b[1;33m\u001b[0m\u001b[0m\n",
      "\u001b[1;31mTypeError\u001b[0m: Unicode-objects must be encoded before hashing"
     ]
    }
   ],
   "source": [
    "import requests\n",
    "import json\n",
    "import hashlib\n",
    "url = requests.get(\"https://api.codenation.dev/v1/challenge/dev-ps/generate-data?token=37e7cf6c453c4d296dad0dd3050a66e20bf7d2a4\")\n",
    "response = json.loads(url.text)\n",
    "num = response['numero_casas']\n",
    "mensagem = response['cifrado']\n",
    "alfabeto = 'abcdefghijklmnopqrstuvwxyz'\n",
    "msg = ''\n",
    "for c in mensagem:\n",
    "    if c in alfabeto:\n",
    "        c_index = alfabeto.find(c.lower())\n",
    "        msg += alfabeto[c_index - num]\n",
    "    else:\n",
    "        msg += c\n",
    "response['decifrado'] = msg\n",
    "crp = hashlib.sha1(b\"perl - the only language that looks the same before and after rsa encryption. keith bostic\")\n",
    "crp.hexdigest()\n",
    "response['resumo_criptografico'] = crp.hexdigest()\n",
    "J = json.dumps(response)\n"
   ]
  },
  {
   "cell_type": "code",
   "execution_count": 12,
   "metadata": {},
   "outputs": [],
   "source": [
    "file = open(\"answer.json\", \"w\")\n",
    "file.write(J)\n",
    "file.close()"
   ]
  },
  {
   "cell_type": "code",
   "execution_count": 13,
   "metadata": {},
   "outputs": [],
   "source": [
    "data = open(\"answer.json\", \"r\")"
   ]
  },
  {
   "cell_type": "code",
   "execution_count": 14,
   "metadata": {},
   "outputs": [
    {
     "name": "stdout",
     "output_type": "stream",
     "text": [
      "{\"numero_casas\": 1, \"token\": \"37e7cf6c453c4d296dad0dd3050a66e20bf7d2a4\", \"cifrado\": \"qfsm - uif pomz mbohvbhf uibu mpplt uif tbnf cfgpsf boe bgufs stb fodszqujpo. lfjui cptujd\", \"decifrado\": \"perl - the only language that looks the same before and after rsa encryption. keith bostic\", \"resumo_criptografico\": \"9e44d3b41f5acda1cd3e3f864717a20b7ce27ac6\"}\n"
     ]
    }
   ],
   "source": [
    "print(data.read())"
   ]
  },
  {
   "cell_type": "code",
   "execution_count": 19,
   "metadata": {},
   "outputs": [
    {
     "data": {
      "text/plain": [
       "'{\"code\":\"not_found\",\"error\":\"\\\\u003cnot_found\\\\u003e \",\"message\":\"Erro processando solução\"}'"
      ]
     },
     "execution_count": 19,
     "metadata": {},
     "output_type": "execute_result"
    }
   ],
   "source": [
    "url = 'https://api.codenation.dev/v1/challenge/dev-ps/submit-solution?token=37e7cf6c453c4d296dad0dd3050a66e20bf7d2a4'\n",
    "files = {'file': open('answer.json', 'rb')}\n",
    "\n",
    "r = requests.post(url, files=files)\n",
    "r.text"
   ]
  },
  {
   "cell_type": "code",
   "execution_count": 17,
   "metadata": {},
   "outputs": [
    {
     "data": {
      "text/plain": [
       "'{\"code\":\"not_found\",\"error\":\"\\\\u003cnot_found\\\\u003e \",\"message\":\"Erro processando solução\"}'"
      ]
     },
     "execution_count": 17,
     "metadata": {},
     "output_type": "execute_result"
    }
   ],
   "source": [
    "url = 'https://api.codenation.dev/v1/challenge/dev-ps/submit-solution?token=37e7cf6c453c4d296dad0dd3050a66e20bf7d2a4'\n",
    "files = {'file': ('answer.json', open('answer.json', 'rb'))}\n",
    "\n",
    "r = requests.post(url, files=files)\n",
    "r.text"
   ]
  },
  {
   "cell_type": "code",
   "execution_count": null,
   "metadata": {},
   "outputs": [],
   "source": []
  }
 ],
 "metadata": {
  "kernelspec": {
   "display_name": "Python 3",
   "language": "python",
   "name": "python3"
  },
  "language_info": {
   "codemirror_mode": {
    "name": "ipython",
    "version": 3
   },
   "file_extension": ".py",
   "mimetype": "text/x-python",
   "name": "python",
   "nbconvert_exporter": "python",
   "pygments_lexer": "ipython3",
   "version": "3.6.5"
  }
 },
 "nbformat": 4,
 "nbformat_minor": 2
}
