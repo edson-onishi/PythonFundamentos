{
 "cells": [
  {
   "cell_type": "markdown",
   "metadata": {},
   "source": [
    "# <font color='blue'>Data Science Academy - Python Fundamentos - Capítulo 6</font>\n"
   ]
  },
  {
   "cell_type": "markdown",
   "metadata": {},
   "source": [
    "### Criando o Banco de Dados e Inserindo Dados"
   ]
  },
  {
   "cell_type": "code",
   "execution_count": 2,
   "metadata": {},
   "outputs": [],
   "source": [
    "# Reemove o arquivo com o banco de dados SQLite (caso exista)\n",
    "import os #importa o pacote operator System \n",
    "os.remove(\"dsa.db\") if os.path.exists(\"dsa.db\") else None#verifica se tem o banco de dados DSA.db caso tenha ele sera deletado\n",
    "#não é necessario deletar o BD\n"
   ]
  },
  {
   "cell_type": "code",
   "execution_count": 3,
   "metadata": {},
   "outputs": [],
   "source": [
    "import sqlite3 # importando um pacote de sqlite3 para acessar SQLite\n",
    " \n",
    "# Criando uma conexão\n",
    "conn = sqlite3.connect('dsa.db')#usando a função connect para fazer a conexão   \n",
    "\n",
    "# Criando um cursor\n",
    "c = conn.cursor() # função cursor para ter acesso ao BD\n",
    " \n",
    "# Função para criar uma tabela\n",
    "def create_table():#usando a função def para criar uma função\n",
    "    c.execute('CREATE TABLE IF NOT EXISTS produtos(id INTEGER PRIMARY KEY AUTOINCREMENT NOT NULL, date TEXT, '\\\n",
    "              'prod_name TEXT, valor REAL)')\n",
    "    #chamando a função execute dentro do objeto c (para executar o codigo SQL) \n",
    "# Função para inserir uma linha\n",
    "def data_insert():#criando uma função \n",
    "    c.execute(\"INSERT INTO produtos VALUES(10, '2018-05-02 14:32:11', 'Teclado', 90 )\")#apartir do objeto c chama a função execute para executar o comando de insert de sql\n",
    "    conn.commit()#chamando a função commit(para gravar a operação feita) apartir do objeto conn (objeto de conexao do BD)\n",
    "    c.close()#função para encerrar o objeto c (cursor)\n",
    "    conn.close()#função para encerrar o objeto conn (conexão do BD)"
   ]
  },
  {
   "cell_type": "code",
   "execution_count": 4,
   "metadata": {},
   "outputs": [],
   "source": [
    "# Criar tabela\n",
    "create_table()"
   ]
  },
  {
   "cell_type": "code",
   "execution_count": 5,
   "metadata": {},
   "outputs": [],
   "source": [
    "# Inserir dados\n",
    "data_insert()"
   ]
  },
  {
   "cell_type": "markdown",
   "metadata": {},
   "source": [
    "# Fim"
   ]
  }
 ],
 "metadata": {
  "kernelspec": {
   "display_name": "Python 3",
   "language": "python",
   "name": "python3"
  },
  "language_info": {
   "codemirror_mode": {
    "name": "ipython",
    "version": 3
   },
   "file_extension": ".py",
   "mimetype": "text/x-python",
   "name": "python",
   "nbconvert_exporter": "python",
   "pygments_lexer": "ipython3",
   "version": "3.6.5"
  }
 },
 "nbformat": 4,
 "nbformat_minor": 1
}
