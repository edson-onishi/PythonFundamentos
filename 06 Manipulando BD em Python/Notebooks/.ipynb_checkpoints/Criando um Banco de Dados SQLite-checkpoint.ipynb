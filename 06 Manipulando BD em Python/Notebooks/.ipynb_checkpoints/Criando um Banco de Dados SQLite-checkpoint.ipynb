{
 "cells": [
  {
   "cell_type": "markdown",
   "metadata": {},
   "source": [
    "# <font color='blue'>Data Science Academy - Python Fundamentos - Capítulo 6</font>\n"
   ]
  },
  {
   "cell_type": "markdown",
   "metadata": {},
   "source": [
    "Documentação SQLite: http://www.sqlite.org/docs.html"
   ]
  },
  {
   "cell_type": "markdown",
   "metadata": {},
   "source": [
    "### Acessando Banco de Dados com Python"
   ]
  },
  {
   "cell_type": "code",
   "execution_count": 1,
   "metadata": {},
   "outputs": [],
   "source": [
    "# Reemove o arquivo com o banco de dados SQLite (caso exista)\n",
    "import os\n",
    "os.remove(\"escola.db\") if os.path.exists(\"escola.db\") else None"
   ]
  },
  {
   "cell_type": "code",
   "execution_count": 2,
   "metadata": {},
   "outputs": [],
   "source": [
    "# Importando o módulo de acesso ao SQLite\n",
    "import sqlite3"
   ]
  },
  {
   "cell_type": "code",
   "execution_count": 3,
   "metadata": {},
   "outputs": [],
   "source": [
    "# Cria uma conexão com o banco de dados. \n",
    "# Se o banco de dados não existir, ele é criado neste momento.\n",
    "con = sqlite3.connect('escola.db')"
   ]
  },
  {
   "cell_type": "code",
   "execution_count": 4,
   "metadata": {},
   "outputs": [
    {
     "data": {
      "text/plain": [
       "sqlite3.Connection"
      ]
     },
     "execution_count": 4,
     "metadata": {},
     "output_type": "execute_result"
    }
   ],
   "source": [
    "type(con)"
   ]
  },
  {
   "cell_type": "code",
   "execution_count": 5,
   "metadata": {},
   "outputs": [],
   "source": [
    "# Criando um cursor \n",
    "# (Um cursor permite percorrer todos os registros em um conjunto de dados)\n",
    "cur = con.cursor()"
   ]
  },
  {
   "cell_type": "code",
   "execution_count": 6,
   "metadata": {},
   "outputs": [
    {
     "data": {
      "text/plain": [
       "sqlite3.Cursor"
      ]
     },
     "execution_count": 6,
     "metadata": {},
     "output_type": "execute_result"
    }
   ],
   "source": [
    "type(cur)"
   ]
  },
  {
   "cell_type": "code",
   "execution_count": null,
   "metadata": {},
   "outputs": [],
   "source": [
    "# Cria uma instrução sql\n",
    "sql_create = 'create table cursos '\\ #codigo de SQL temos o create table para criar a tabela \n",
    "'(id integer primary key, '\\#coluna chama se ID e do tipo intero e é primary key(nao podemos ter valores repetidos nessa coluna)\n",
    "'titulo varchar(100), '\\ #segunda colula temos  titulo do tipo vachar(caracter até 100 posições)\n",
    "'categoria varchar(140))'#terceira coluna nome categoria do tipo caracter até 140 posições\n",
    "# esses contra barras são para quebra a linha de codigo não sedo necessario a sua utilização\n",
    "# e todo esse codigo SQL é atribuido ao objeto sql_create"
   ]
  },
  {
   "cell_type": "code",
   "execution_count": null,
   "metadata": {},
   "outputs": [],
   "source": [
    "# Executando a instrução sql no cursor\n",
    "cur.execute(sql_create)#chamando a função execute do objeto cur e passo como  paramentro sql_create"
   ]
  },
  {
   "cell_type": "code",
   "execution_count": null,
   "metadata": {},
   "outputs": [],
   "source": [
    "# Criando outra sentença SQL para inserir registros\n",
    "sql_insert = 'insert into cursos values (?, ?, ?)'#codigo SQL inserção de registro a uma tabela sendo atribuida em um iobjeto"
   ]
  },
  {
   "cell_type": "code",
   "execution_count": null,
   "metadata": {},
   "outputs": [],
   "source": [
    "# Dados \n",
    "recset = [(1000, 'Ciência de Dados', 'Data Science'),#atribuindo uma lista no objeto recset\n",
    "          (1001, 'Big Data Fundamentos', 'Big Data'),#cada elemento dessa lista é uma tupla que 3 elementos id titulo e categoria\n",
    "          (1002, 'Python Fundamentos', 'Análise de Dados')] "
   ]
  },
  {
   "cell_type": "code",
   "execution_count": null,
   "metadata": {},
   "outputs": [],
   "source": [
    "# Inserindo os registros\n",
    "for rec in recset:# para cada rec dentro do objeto rewcset faça\n",
    "    cur.execute(sql_insert, rec)# executa(execute) o sql_insert no parametro rec que seria a linha do objeto recset"
   ]
  },
  {
   "cell_type": "code",
   "execution_count": null,
   "metadata": {},
   "outputs": [],
   "source": [
    "# Grava a transação\n",
    "con.commit()"
   ]
  },
  {
   "cell_type": "code",
   "execution_count": null,
   "metadata": {},
   "outputs": [],
   "source": [
    "# Criando outra sentença SQL para selecionar registros\n",
    "sql_select = 'select * from cursos'# codigo sql para selecionar uma tabela \n",
    "                                  #atribuindo o codigo sql no objeto sql_select"
   ]
  },
  {
   "cell_type": "code",
   "execution_count": null,
   "metadata": {},
   "outputs": [],
   "source": [
    "# Seleciona todos os registros e recupera os registros\n",
    "cur.execute(sql_select)#função execute para o sql_select para retornar os registros da tabela\n",
    "dados = cur.fetchall() # função fetchall vai pegar as registros e vai atribuir no objeto dados"
   ]
  },
  {
   "cell_type": "code",
   "execution_count": null,
   "metadata": {},
   "outputs": [],
   "source": [
    "# Mostra\n",
    "for linha in dados: #para cada linha dentro do objetos dados faça\n",
    "    print ('Curso Id: %d, Título: %s, Categoria: %s \\n' % linha)"
   ]
  },
  {
   "cell_type": "code",
   "execution_count": null,
   "metadata": {},
   "outputs": [],
   "source": [
    "# Gerando outros registros\n",
    "recset = [(1003, 'Gestão de Dados com MongoDB', 'Big Data'),\n",
    "          (1004, 'R Fundamentos', 'Análise de Dados')]\n",
    "\n",
    "# Inserindo os registros\n",
    "for rec in recset:\n",
    "    cur.execute(sql_insert, rec)\n",
    "    \n",
    "# Gravando a transação\n",
    "con.commit()"
   ]
  },
  {
   "cell_type": "code",
   "execution_count": null,
   "metadata": {},
   "outputs": [],
   "source": [
    "# Seleciona todos os registros\n",
    "cur.execute('select * from cursos')\n",
    "\n",
    "# Recupera os resultados\n",
    "recset = cur.fetchall()\n",
    "\n",
    "# Mostra\n",
    "for rec in recset:\n",
    "    print ('Curso Id: %d, Título: %s, Categoria: %s \\n' % rec)"
   ]
  },
  {
   "cell_type": "code",
   "execution_count": null,
   "metadata": {},
   "outputs": [],
   "source": [
    "# Fecha a conexão\n",
    "con.close() # close serve para fechar a conexão quando para de trabalhar com o BD para evitar qualquer tipo de problema"
   ]
  },
  {
   "cell_type": "markdown",
   "metadata": {},
   "source": [
    "# Fim"
   ]
  }
 ],
 "metadata": {
  "kernelspec": {
   "display_name": "Python 3",
   "language": "python",
   "name": "python3"
  },
  "language_info": {
   "codemirror_mode": {
    "name": "ipython",
    "version": 3
   },
   "file_extension": ".py",
   "mimetype": "text/x-python",
   "name": "python",
   "nbconvert_exporter": "python",
   "pygments_lexer": "ipython3",
   "version": "3.6.5"
  }
 },
 "nbformat": 4,
 "nbformat_minor": 1
}
