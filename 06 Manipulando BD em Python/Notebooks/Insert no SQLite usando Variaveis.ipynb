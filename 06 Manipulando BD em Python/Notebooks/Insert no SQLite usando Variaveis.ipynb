{
 "cells": [
  {
   "cell_type": "markdown",
   "metadata": {},
   "source": [
    "# <font color='blue'>Data Science Academy - Python Fundamentos - Capítulo 6</font>"
   ]
  },
  {
   "cell_type": "markdown",
   "metadata": {},
   "source": [
    "### Inserindo Dados com Variáveis"
   ]
  },
  {
   "cell_type": "code",
   "execution_count": 1,
   "metadata": {},
   "outputs": [],
   "source": [
    "import sqlite3 #importando modulo \n",
    "import random\n",
    "import time\n",
    "import datetime\n",
    " \n",
    "# Criando uma conexão\n",
    "conn = sqlite3.connect('dsa.db')   #usando a função connect para fazer uma coneção com o BD\n",
    "\n",
    "# Criando um cursor\n",
    "c = conn.cursor() #função cursor para ter acesso ao BD\n",
    " \n",
    "# Função para criar uma tabela\n",
    "def create_table():\n",
    "    c.execute('CREATE TABLE IF NOT EXISTS produtos(id INTEGER PRIMARY KEY AUTOINCREMENT NOT NULL, date TEXT, '\\\n",
    "              'prod_name TEXT, valor REAL)') #execute()método para executar comandos SQL\n",
    "    \n",
    "# Função para inserir uma linha\n",
    "def data_insert():\n",
    "    c.execute(\"INSERT INTO produtos VALUES('2018-05-02 12:34:45', 'Teclado', 130.00 )\")#execute()método para executar comandos SQL\n",
    "    conn.commit()#função commit para gravar as operações feita\n",
    "    c.close()#função para fechar a o curso (acesso ao BD)\n",
    "    conn.close()#função para encerrar a conexão com o BD\n",
    "    \n",
    "# Usando variáveis para inserir dados    \n",
    "def data_insert_var():#criando uma função\n",
    "    new_date = datetime.datetime.now()#função now para pegar a data e hora  do pacote datetime e atribui o valor ao objeto new_date\n",
    "    new_prod_name = 'Monitor'# atribuir o valor mointor no objeto new_prod_name\n",
    "    new_valor = random.randrange(50,100)#função randrange pega um valor randomico com os parametros declarados de 50 ate 100\n",
    "    c.execute(\"INSERT INTO produtos (date, prod_name, valor) VALUES (?, ?, ?)\", (new_date, new_prod_name, new_valor))\n",
    "    conn.commit()#função para gravar a operação feita na função"
   ]
  },
  {
   "cell_type": "code",
   "execution_count": 2,
   "metadata": {},
   "outputs": [],
   "source": [
    "# Gerando valores e inserindo na tabela\n",
    "for i in range(10):# para cada i (elemento) dentro do range 10 elementos\n",
    "    data_insert_var()# para cada elemento ele fara a chamada da função data_insert_var\n",
    "    time.sleep(1)#função sleep do pacote time dormi(esperar) para fazer esperar 1 segundo conforme o parametro declarado"
   ]
  },
  {
   "cell_type": "code",
   "execution_count": 3,
   "metadata": {
    "collapsed": true
   },
   "outputs": [],
   "source": [
    "# Encerrando a conexão\n",
    "c.close()#função close para fechar o cursor \n",
    "conn.close()#função para fechar o conn conexão"
   ]
  },
  {
   "cell_type": "markdown",
   "metadata": {},
   "source": [
    "# Fim"
   ]
  }
 ],
 "metadata": {
  "kernelspec": {
   "display_name": "Python 3",
   "language": "python",
   "name": "python3"
  },
  "language_info": {
   "codemirror_mode": {
    "name": "ipython",
    "version": 3
   },
   "file_extension": ".py",
   "mimetype": "text/x-python",
   "name": "python",
   "nbconvert_exporter": "python",
   "pygments_lexer": "ipython3",
   "version": "3.6.5"
  }
 },
 "nbformat": 4,
 "nbformat_minor": 1
}
